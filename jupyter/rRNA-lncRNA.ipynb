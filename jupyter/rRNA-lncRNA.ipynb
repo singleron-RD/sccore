{
 "cells": [
  {
   "cell_type": "code",
   "execution_count": null,
   "metadata": {},
   "outputs": [],
   "source": [
    "import scanpy as sc\n",
    "import pandas as pd\n",
    "\n",
    "# 读取单细胞表达矩阵\n",
    "adata = sc.read_10x_mtx(\"\", var_names=\"gene_symbols\", cache=True)\n",
    "\n",
    "# 读取基因列表\n",
    "rRNA_genes = set(pd.read_csv(\"rRNA_gene_list.txt\", header=None)[0])\n",
    "lncRNA_genes = set(pd.read_csv(\"lncRNA_gene_list.txt\", header=None)[0])\n",
    "\n",
    "# 计算 rRNA 和 lncRNA 占比\n",
    "adata.obs[\"percent_rRNA\"] = adata[:, adata.var_names.isin(rRNA_genes)].X.sum(axis=1) / adata.X.sum(axis=1) * 100\n",
    "adata.obs[\"percent_lncRNA\"] = adata[:, adata.var_names.isin(lncRNA_genes)].X.sum(axis=1) / adata.X.sum(axis=1) * 100\n",
    "\n",
    "# 可视化\n",
    "sc.pl.violin(adata, [\"percent_rRNA\", \"percent_lncRNA\"])\n",
    "sc.pl.scatter(adata, x=\"n_genes_by_counts\", y=\"percent_rRNA\")\n"
   ]
  }
 ],
 "metadata": {
  "kernelspec": {
   "display_name": "celedev",
   "language": "python",
   "name": "python3"
  },
  "language_info": {
   "name": "python",
   "version": "3.9.16"
  }
 },
 "nbformat": 4,
 "nbformat_minor": 2
}
