{
 "cells": [
  {
   "cell_type": "code",
   "execution_count": 2,
   "metadata": {},
   "outputs": [],
   "source": [
    "import pandas as pd"
   ]
  },
  {
   "cell_type": "code",
   "execution_count": 4,
   "metadata": {},
   "outputs": [],
   "source": [
    "df = pd.read_csv('/SGRNJ06/randd/USER/zhouyiqi/work/repo/celescope_test_script/dynaseq/test1/05.replacement/test1_labeled_detail.txt', sep='\\t')"
   ]
  },
  {
   "cell_type": "code",
   "execution_count": 5,
   "metadata": {},
   "outputs": [
    {
     "data": {
      "text/html": [
       "<div>\n",
       "<style scoped>\n",
       "    .dataframe tbody tr th:only-of-type {\n",
       "        vertical-align: middle;\n",
       "    }\n",
       "\n",
       "    .dataframe tbody tr th {\n",
       "        vertical-align: top;\n",
       "    }\n",
       "\n",
       "    .dataframe thead th {\n",
       "        text-align: right;\n",
       "    }\n",
       "</style>\n",
       "<table border=\"1\" class=\"dataframe\">\n",
       "  <thead>\n",
       "    <tr style=\"text-align: right;\">\n",
       "      <th></th>\n",
       "      <th>Barcode</th>\n",
       "      <th>UMI</th>\n",
       "      <th>geneID</th>\n",
       "      <th>TC</th>\n",
       "    </tr>\n",
       "  </thead>\n",
       "  <tbody>\n",
       "    <tr>\n",
       "      <th>0</th>\n",
       "      <td>GCCACATA_CCGTGAGA_GCCACATA</td>\n",
       "      <td>TACCGTCTTTTA</td>\n",
       "      <td>ENSMUSG00000025903</td>\n",
       "      <td>0</td>\n",
       "    </tr>\n",
       "    <tr>\n",
       "      <th>1</th>\n",
       "      <td>ATTGGCTC_CACCTTAC_ACAAGCTA</td>\n",
       "      <td>TGGCGATTGCGT</td>\n",
       "      <td>ENSMUSG00000033813</td>\n",
       "      <td>1</td>\n",
       "    </tr>\n",
       "    <tr>\n",
       "      <th>2</th>\n",
       "      <td>CGACACAC_ACGTATCA_GGTGCGAA</td>\n",
       "      <td>TACTGTCACTGG</td>\n",
       "      <td>ENSMUSG00000033813</td>\n",
       "      <td>2</td>\n",
       "    </tr>\n",
       "    <tr>\n",
       "      <th>3</th>\n",
       "      <td>TCCGTCTA_ACAGATTC_AAGGACAC</td>\n",
       "      <td>GACTCCTTTCGA</td>\n",
       "      <td>ENSMUSG00000033813</td>\n",
       "      <td>0</td>\n",
       "    </tr>\n",
       "    <tr>\n",
       "      <th>4</th>\n",
       "      <td>CTGAGCCA_CTAAGGTC_AATCCGTC</td>\n",
       "      <td>CGAGGCGATAAC</td>\n",
       "      <td>ENSMUSG00000033813</td>\n",
       "      <td>4</td>\n",
       "    </tr>\n",
       "    <tr>\n",
       "      <th>...</th>\n",
       "      <td>...</td>\n",
       "      <td>...</td>\n",
       "      <td>...</td>\n",
       "      <td>...</td>\n",
       "    </tr>\n",
       "    <tr>\n",
       "      <th>17463</th>\n",
       "      <td>GTGTTCTA_CACCTTAC_CGACACAC</td>\n",
       "      <td>GTATCTATTGCC</td>\n",
       "      <td>ENSMUSG00000096768</td>\n",
       "      <td>0</td>\n",
       "    </tr>\n",
       "    <tr>\n",
       "      <th>17464</th>\n",
       "      <td>GCCAAGAC_CAAGACTA_GATAGACA</td>\n",
       "      <td>AATCCAGCCCAA</td>\n",
       "      <td>ENSMUSG00000096768</td>\n",
       "      <td>1</td>\n",
       "    </tr>\n",
       "    <tr>\n",
       "      <th>17465</th>\n",
       "      <td>ATCATTCC_GTCGTAGA_CGCTGATC</td>\n",
       "      <td>CGTTGTATCCGG</td>\n",
       "      <td>ENSMUSG00000096768</td>\n",
       "      <td>0</td>\n",
       "    </tr>\n",
       "    <tr>\n",
       "      <th>17466</th>\n",
       "      <td>CGACTGGA_AGTGGTCA_GATGAATC</td>\n",
       "      <td>CTGCCTAGAAGC</td>\n",
       "      <td>ENSMUSG00000096768</td>\n",
       "      <td>0</td>\n",
       "    </tr>\n",
       "    <tr>\n",
       "      <th>17467</th>\n",
       "      <td>AGTCACTA_ACCACTGT_AATCCGTC</td>\n",
       "      <td>CCCACGGCCGTG</td>\n",
       "      <td>ENSMUSG00000096768</td>\n",
       "      <td>1</td>\n",
       "    </tr>\n",
       "  </tbody>\n",
       "</table>\n",
       "<p>17468 rows × 4 columns</p>\n",
       "</div>"
      ],
      "text/plain": [
       "                          Barcode           UMI              geneID  TC\n",
       "0      GCCACATA_CCGTGAGA_GCCACATA  TACCGTCTTTTA  ENSMUSG00000025903   0\n",
       "1      ATTGGCTC_CACCTTAC_ACAAGCTA  TGGCGATTGCGT  ENSMUSG00000033813   1\n",
       "2      CGACACAC_ACGTATCA_GGTGCGAA  TACTGTCACTGG  ENSMUSG00000033813   2\n",
       "3      TCCGTCTA_ACAGATTC_AAGGACAC  GACTCCTTTCGA  ENSMUSG00000033813   0\n",
       "4      CTGAGCCA_CTAAGGTC_AATCCGTC  CGAGGCGATAAC  ENSMUSG00000033813   4\n",
       "...                           ...           ...                 ...  ..\n",
       "17463  GTGTTCTA_CACCTTAC_CGACACAC  GTATCTATTGCC  ENSMUSG00000096768   0\n",
       "17464  GCCAAGAC_CAAGACTA_GATAGACA  AATCCAGCCCAA  ENSMUSG00000096768   1\n",
       "17465  ATCATTCC_GTCGTAGA_CGCTGATC  CGTTGTATCCGG  ENSMUSG00000096768   0\n",
       "17466  CGACTGGA_AGTGGTCA_GATGAATC  CTGCCTAGAAGC  ENSMUSG00000096768   0\n",
       "17467  AGTCACTA_ACCACTGT_AATCCGTC  CCCACGGCCGTG  ENSMUSG00000096768   1\n",
       "\n",
       "[17468 rows x 4 columns]"
      ]
     },
     "execution_count": 5,
     "metadata": {},
     "output_type": "execute_result"
    }
   ],
   "source": [
    "df"
   ]
  },
  {
   "cell_type": "code",
   "execution_count": 6,
   "metadata": {},
   "outputs": [],
   "source": [
    "# 按 Barcode + UMI + geneID 分组，并计算每组的行数\n",
    "count_df = df.groupby(['Barcode', 'UMI', 'geneID']).size().reset_index(name='Count')"
   ]
  },
  {
   "cell_type": "code",
   "execution_count": 11,
   "metadata": {},
   "outputs": [
    {
     "data": {
      "text/plain": [
       "100"
      ]
     },
     "execution_count": 11,
     "metadata": {},
     "output_type": "execute_result"
    }
   ],
   "source": [
    "len(count_df.Barcode.unique())"
   ]
  },
  {
   "cell_type": "code",
   "execution_count": 13,
   "metadata": {},
   "outputs": [
    {
     "data": {
      "text/plain": [
       "Barcode                     UMI         \n",
       "AAACATCG_AGGCTAAC_GATGAATC  AAACAGCCCTGG    1\n",
       "                            AACCCCAGCAAC    1\n",
       "                            AACCGACGCCTT    1\n",
       "                            AAGCAGGTCTGG    1\n",
       "                            AAGCGCGATAGT    1\n",
       "                                           ..\n",
       "TGGTGGTA_GGAGAACA_CAAGGAGC  TGGCGAAACTGT    1\n",
       "                            TGTAACATGAGA    1\n",
       "                            TGTGCAGTGGAC    1\n",
       "                            TTGACATGGACG    1\n",
       "                            TTTGGGGATCTG    1\n",
       "Length: 17441, dtype: int64"
      ]
     },
     "execution_count": 13,
     "metadata": {},
     "output_type": "execute_result"
    }
   ],
   "source": [
    "df.groupby(['Barcode', 'UMI']).size()"
   ]
  },
  {
   "cell_type": "code",
   "execution_count": 16,
   "metadata": {},
   "outputs": [],
   "source": [
    "from scipy.io import mmread\n",
    "def get_sum(mtx_file):\n",
    "    matrix = mmread(mtx_file)\n",
    "    return matrix.sum()"
   ]
  },
  {
   "cell_type": "code",
   "execution_count": 17,
   "metadata": {},
   "outputs": [
    {
     "data": {
      "text/plain": [
       "5499"
      ]
     },
     "execution_count": 17,
     "metadata": {},
     "output_type": "execute_result"
    }
   ],
   "source": [
    "get_sum('/SGRNJ06/randd/USER/zhouyiqi/work/repo/celescope_test_script/dynaseq/test1/05.replacement/labeled/matrix.mtx.gz')"
   ]
  },
  {
   "cell_type": "code",
   "execution_count": 18,
   "metadata": {},
   "outputs": [
    {
     "data": {
      "text/plain": [
       "11969"
      ]
     },
     "execution_count": 18,
     "metadata": {},
     "output_type": "execute_result"
    }
   ],
   "source": [
    "get_sum('/SGRNJ06/randd/USER/zhouyiqi/work/repo/celescope_test_script/dynaseq/test1/05.replacement/unlabeled/matrix.mtx.gz')"
   ]
  },
  {
   "cell_type": "code",
   "execution_count": 19,
   "metadata": {},
   "outputs": [
    {
     "data": {
      "text/plain": [
       "17468"
      ]
     },
     "execution_count": 19,
     "metadata": {},
     "output_type": "execute_result"
    }
   ],
   "source": [
    "5499+11969"
   ]
  },
  {
   "cell_type": "code",
   "execution_count": 20,
   "metadata": {},
   "outputs": [
    {
     "data": {
      "text/plain": [
       "17468"
      ]
     },
     "execution_count": 20,
     "metadata": {},
     "output_type": "execute_result"
    }
   ],
   "source": [
    "get_sum(\"/SGRNJ06/randd/USER/zhouyiqi/work/repo/celescope_test_script/dynaseq/test1/outs/filtered/matrix.mtx.gz\")"
   ]
  },
  {
   "cell_type": "code",
   "execution_count": 21,
   "metadata": {},
   "outputs": [],
   "source": [
    "import pandas as pd"
   ]
  },
  {
   "cell_type": "code",
   "execution_count": 10,
   "metadata": {},
   "outputs": [
    {
     "data": {
      "text/html": [
       "<div>\n",
       "<style scoped>\n",
       "    .dataframe tbody tr th:only-of-type {\n",
       "        vertical-align: middle;\n",
       "    }\n",
       "\n",
       "    .dataframe tbody tr th {\n",
       "        vertical-align: top;\n",
       "    }\n",
       "\n",
       "    .dataframe thead th {\n",
       "        text-align: right;\n",
       "    }\n",
       "</style>\n",
       "<table border=\"1\" class=\"dataframe\">\n",
       "  <thead>\n",
       "    <tr style=\"text-align: right;\">\n",
       "      <th></th>\n",
       "      <th>0</th>\n",
       "      <th>1</th>\n",
       "      <th>2</th>\n",
       "      <th>3</th>\n",
       "      <th>4</th>\n",
       "    </tr>\n",
       "  </thead>\n",
       "  <tbody>\n",
       "    <tr>\n",
       "      <th>0</th>\n",
       "      <td>chr1</td>\n",
       "      <td>3000302</td>\n",
       "      <td>3000374</td>\n",
       "      <td>CCGCTAATGTTA</td>\n",
       "      <td>1</td>\n",
       "    </tr>\n",
       "    <tr>\n",
       "      <th>1</th>\n",
       "      <td>chr1</td>\n",
       "      <td>3000319</td>\n",
       "      <td>3000374</td>\n",
       "      <td>TTACCAGGGCTG</td>\n",
       "      <td>1</td>\n",
       "    </tr>\n",
       "    <tr>\n",
       "      <th>2</th>\n",
       "      <td>chr1</td>\n",
       "      <td>3000660</td>\n",
       "      <td>3001222</td>\n",
       "      <td>TGTGATATAACA</td>\n",
       "      <td>2</td>\n",
       "    </tr>\n",
       "    <tr>\n",
       "      <th>3</th>\n",
       "      <td>chr1</td>\n",
       "      <td>3000738</td>\n",
       "      <td>3000783</td>\n",
       "      <td>TCACGGAGGATC</td>\n",
       "      <td>2</td>\n",
       "    </tr>\n",
       "    <tr>\n",
       "      <th>4</th>\n",
       "      <td>chr1</td>\n",
       "      <td>3000816</td>\n",
       "      <td>3001254</td>\n",
       "      <td>TAATACGTTGAG</td>\n",
       "      <td>1</td>\n",
       "    </tr>\n",
       "    <tr>\n",
       "      <th>...</th>\n",
       "      <td>...</td>\n",
       "      <td>...</td>\n",
       "      <td>...</td>\n",
       "      <td>...</td>\n",
       "      <td>...</td>\n",
       "    </tr>\n",
       "    <tr>\n",
       "      <th>18954954</th>\n",
       "      <td>chrUn_JH584304</td>\n",
       "      <td>113282</td>\n",
       "      <td>113392</td>\n",
       "      <td>CCGCCTAGCTAA</td>\n",
       "      <td>2</td>\n",
       "    </tr>\n",
       "    <tr>\n",
       "      <th>18954955</th>\n",
       "      <td>chrUn_JH584304</td>\n",
       "      <td>113282</td>\n",
       "      <td>113398</td>\n",
       "      <td>CTTAGACGAGTA</td>\n",
       "      <td>1</td>\n",
       "    </tr>\n",
       "    <tr>\n",
       "      <th>18954956</th>\n",
       "      <td>chrUn_JH584304</td>\n",
       "      <td>113284</td>\n",
       "      <td>113332</td>\n",
       "      <td>CTCGATATTGAG</td>\n",
       "      <td>1</td>\n",
       "    </tr>\n",
       "    <tr>\n",
       "      <th>18954957</th>\n",
       "      <td>chrUn_JH584304</td>\n",
       "      <td>113284</td>\n",
       "      <td>113391</td>\n",
       "      <td>GCACCAGGTTGT</td>\n",
       "      <td>1</td>\n",
       "    </tr>\n",
       "    <tr>\n",
       "      <th>18954958</th>\n",
       "      <td>chrUn_JH584304</td>\n",
       "      <td>113284</td>\n",
       "      <td>113429</td>\n",
       "      <td>TATCGTTAGGCA</td>\n",
       "      <td>1</td>\n",
       "    </tr>\n",
       "  </tbody>\n",
       "</table>\n",
       "<p>18954959 rows × 5 columns</p>\n",
       "</div>"
      ],
      "text/plain": [
       "                       0        1        2             3  4\n",
       "0                   chr1  3000302  3000374  CCGCTAATGTTA  1\n",
       "1                   chr1  3000319  3000374  TTACCAGGGCTG  1\n",
       "2                   chr1  3000660  3001222  TGTGATATAACA  2\n",
       "3                   chr1  3000738  3000783  TCACGGAGGATC  2\n",
       "4                   chr1  3000816  3001254  TAATACGTTGAG  1\n",
       "...                  ...      ...      ...           ... ..\n",
       "18954954  chrUn_JH584304   113282   113392  CCGCCTAGCTAA  2\n",
       "18954955  chrUn_JH584304   113282   113398  CTTAGACGAGTA  1\n",
       "18954956  chrUn_JH584304   113284   113332  CTCGATATTGAG  1\n",
       "18954957  chrUn_JH584304   113284   113391  GCACCAGGTTGT  1\n",
       "18954958  chrUn_JH584304   113284   113429  TATCGTTAGGCA  1\n",
       "\n",
       "[18954959 rows x 5 columns]"
      ]
     },
     "execution_count": 10,
     "metadata": {},
     "output_type": "execute_result"
    }
   ],
   "source": [
    "#df = pd.read_csv('/SGRNJ06/randd/USER/zhouyiqi/2024/scatac/human_PBMC/outs/snapatac2/A0111_6_PBMC.fragment.gz', sep='\\t', header=None)\n",
    "df = pd.read_csv('/SGRNJ06/randd/PROJECT/scATAC_scRNA_multiOmics/scATAC/20250612/Mus_lung_onestep_ATAC/outs/fragments_corrected_dedup_count.tsv.gz', sep='\\t', header=None)\n",
    "df"
   ]
  },
  {
   "cell_type": "code",
   "execution_count": 11,
   "metadata": {},
   "outputs": [
    {
     "data": {
      "text/plain": [
       "26533733"
      ]
     },
     "execution_count": 11,
     "metadata": {},
     "output_type": "execute_result"
    }
   ],
   "source": [
    "total = df[4].sum()\n",
    "total"
   ]
  },
  {
   "cell_type": "code",
   "execution_count": 15,
   "metadata": {},
   "outputs": [
    {
     "data": {
      "text/plain": [
       "284101"
      ]
     },
     "execution_count": 15,
     "metadata": {},
     "output_type": "execute_result"
    }
   ],
   "source": [
    "mt = df[df[0] == 'chrM'][4].sum()\n",
    "mt"
   ]
  },
  {
   "cell_type": "code",
   "execution_count": 16,
   "metadata": {},
   "outputs": [
    {
     "data": {
      "text/plain": [
       "1.07"
      ]
     },
     "execution_count": 16,
     "metadata": {},
     "output_type": "execute_result"
    }
   ],
   "source": [
    "round(mt / total * 100, 2)"
   ]
  },
  {
   "cell_type": "code",
   "execution_count": 32,
   "metadata": {},
   "outputs": [
    {
     "ename": "KeyError",
     "evalue": "'1.1'",
     "output_type": "error",
     "traceback": [
      "\u001b[0;31m---------------------------------------------------------------------------\u001b[0m",
      "\u001b[0;31mKeyError\u001b[0m                                  Traceback (most recent call last)",
      "File \u001b[0;32m/SGRNJ/Public/Software/conda_env/dev/lib/python3.9/site-packages/pandas/core/indexes/base.py:3621\u001b[0m, in \u001b[0;36mIndex.get_loc\u001b[0;34m(self, key, method, tolerance)\u001b[0m\n\u001b[1;32m   3620\u001b[0m \u001b[38;5;28;01mtry\u001b[39;00m:\n\u001b[0;32m-> 3621\u001b[0m     \u001b[38;5;28;01mreturn\u001b[39;00m \u001b[38;5;28;43mself\u001b[39;49m\u001b[38;5;241;43m.\u001b[39;49m\u001b[43m_engine\u001b[49m\u001b[38;5;241;43m.\u001b[39;49m\u001b[43mget_loc\u001b[49m\u001b[43m(\u001b[49m\u001b[43mcasted_key\u001b[49m\u001b[43m)\u001b[49m\n\u001b[1;32m   3622\u001b[0m \u001b[38;5;28;01mexcept\u001b[39;00m \u001b[38;5;167;01mKeyError\u001b[39;00m \u001b[38;5;28;01mas\u001b[39;00m err:\n",
      "File \u001b[0;32m/SGRNJ/Public/Software/conda_env/dev/lib/python3.9/site-packages/pandas/_libs/index.pyx:136\u001b[0m, in \u001b[0;36mpandas._libs.index.IndexEngine.get_loc\u001b[0;34m()\u001b[0m\n",
      "File \u001b[0;32m/SGRNJ/Public/Software/conda_env/dev/lib/python3.9/site-packages/pandas/_libs/index.pyx:163\u001b[0m, in \u001b[0;36mpandas._libs.index.IndexEngine.get_loc\u001b[0;34m()\u001b[0m\n",
      "File \u001b[0;32mpandas/_libs/hashtable_class_helper.pxi:5198\u001b[0m, in \u001b[0;36mpandas._libs.hashtable.PyObjectHashTable.get_item\u001b[0;34m()\u001b[0m\n",
      "File \u001b[0;32mpandas/_libs/hashtable_class_helper.pxi:5206\u001b[0m, in \u001b[0;36mpandas._libs.hashtable.PyObjectHashTable.get_item\u001b[0;34m()\u001b[0m\n",
      "\u001b[0;31mKeyError\u001b[0m: '1.1'",
      "\nThe above exception was the direct cause of the following exception:\n",
      "\u001b[0;31mKeyError\u001b[0m                                  Traceback (most recent call last)",
      "Cell \u001b[0;32mIn[32], line 2\u001b[0m\n\u001b[1;32m      1\u001b[0m df \u001b[38;5;241m=\u001b[39m pd\u001b[38;5;241m.\u001b[39mread_csv(\u001b[38;5;124m'\u001b[39m\u001b[38;5;124m/SGRNJ06/randd/USER/cjj/celedev/atac/MAESTRO/test/20250710/scATAC_D_2_0704/outs/fragments_corrected_dedup_count.tsv.gz\u001b[39m\u001b[38;5;124m'\u001b[39m, sep\u001b[38;5;241m=\u001b[39m\u001b[38;5;124m'\u001b[39m\u001b[38;5;130;01m\\t\u001b[39;00m\u001b[38;5;124m'\u001b[39m)\n\u001b[0;32m----> 2\u001b[0m total \u001b[38;5;241m=\u001b[39m \u001b[43mdf\u001b[49m\u001b[43m[\u001b[49m\u001b[38;5;124;43m'\u001b[39;49m\u001b[38;5;124;43m1.1\u001b[39;49m\u001b[38;5;124;43m'\u001b[39;49m\u001b[43m]\u001b[49m\u001b[38;5;241m.\u001b[39msum()\n\u001b[1;32m      3\u001b[0m mt \u001b[38;5;241m=\u001b[39m df[df[\u001b[38;5;124m'\u001b[39m\u001b[38;5;124m1\u001b[39m\u001b[38;5;124m'\u001b[39m] \u001b[38;5;241m==\u001b[39m \u001b[38;5;124m'\u001b[39m\u001b[38;5;124mchrMT\u001b[39m\u001b[38;5;124m'\u001b[39m][\u001b[38;5;124m'\u001b[39m\u001b[38;5;124m1.1\u001b[39m\u001b[38;5;124m'\u001b[39m]\u001b[38;5;241m.\u001b[39msum()\n\u001b[1;32m      4\u001b[0m mt \u001b[38;5;241m/\u001b[39m total \u001b[38;5;241m*\u001b[39m \u001b[38;5;241m100\u001b[39m\n",
      "File \u001b[0;32m/SGRNJ/Public/Software/conda_env/dev/lib/python3.9/site-packages/pandas/core/frame.py:3505\u001b[0m, in \u001b[0;36mDataFrame.__getitem__\u001b[0;34m(self, key)\u001b[0m\n\u001b[1;32m   3503\u001b[0m \u001b[38;5;28;01mif\u001b[39;00m \u001b[38;5;28mself\u001b[39m\u001b[38;5;241m.\u001b[39mcolumns\u001b[38;5;241m.\u001b[39mnlevels \u001b[38;5;241m>\u001b[39m \u001b[38;5;241m1\u001b[39m:\n\u001b[1;32m   3504\u001b[0m     \u001b[38;5;28;01mreturn\u001b[39;00m \u001b[38;5;28mself\u001b[39m\u001b[38;5;241m.\u001b[39m_getitem_multilevel(key)\n\u001b[0;32m-> 3505\u001b[0m indexer \u001b[38;5;241m=\u001b[39m \u001b[38;5;28;43mself\u001b[39;49m\u001b[38;5;241;43m.\u001b[39;49m\u001b[43mcolumns\u001b[49m\u001b[38;5;241;43m.\u001b[39;49m\u001b[43mget_loc\u001b[49m\u001b[43m(\u001b[49m\u001b[43mkey\u001b[49m\u001b[43m)\u001b[49m\n\u001b[1;32m   3506\u001b[0m \u001b[38;5;28;01mif\u001b[39;00m is_integer(indexer):\n\u001b[1;32m   3507\u001b[0m     indexer \u001b[38;5;241m=\u001b[39m [indexer]\n",
      "File \u001b[0;32m/SGRNJ/Public/Software/conda_env/dev/lib/python3.9/site-packages/pandas/core/indexes/base.py:3623\u001b[0m, in \u001b[0;36mIndex.get_loc\u001b[0;34m(self, key, method, tolerance)\u001b[0m\n\u001b[1;32m   3621\u001b[0m     \u001b[38;5;28;01mreturn\u001b[39;00m \u001b[38;5;28mself\u001b[39m\u001b[38;5;241m.\u001b[39m_engine\u001b[38;5;241m.\u001b[39mget_loc(casted_key)\n\u001b[1;32m   3622\u001b[0m \u001b[38;5;28;01mexcept\u001b[39;00m \u001b[38;5;167;01mKeyError\u001b[39;00m \u001b[38;5;28;01mas\u001b[39;00m err:\n\u001b[0;32m-> 3623\u001b[0m     \u001b[38;5;28;01mraise\u001b[39;00m \u001b[38;5;167;01mKeyError\u001b[39;00m(key) \u001b[38;5;28;01mfrom\u001b[39;00m\u001b[38;5;250m \u001b[39m\u001b[38;5;21;01merr\u001b[39;00m\n\u001b[1;32m   3624\u001b[0m \u001b[38;5;28;01mexcept\u001b[39;00m \u001b[38;5;167;01mTypeError\u001b[39;00m:\n\u001b[1;32m   3625\u001b[0m     \u001b[38;5;66;03m# If we have a listlike key, _check_indexing_error will raise\u001b[39;00m\n\u001b[1;32m   3626\u001b[0m     \u001b[38;5;66;03m#  InvalidIndexError. Otherwise we fall through and re-raise\u001b[39;00m\n\u001b[1;32m   3627\u001b[0m     \u001b[38;5;66;03m#  the TypeError.\u001b[39;00m\n\u001b[1;32m   3628\u001b[0m     \u001b[38;5;28mself\u001b[39m\u001b[38;5;241m.\u001b[39m_check_indexing_error(key)\n",
      "\u001b[0;31mKeyError\u001b[0m: '1.1'"
     ]
    }
   ],
   "source": [
    "df = pd.read_csv('/SGRNJ06/randd/USER/cjj/celedev/atac/MAESTRO/test/20250710/scATAC_D_2_0704/outs/fragments_corrected_dedup_count.tsv.gz', sep='\\t')\n",
    "\n"
   ]
  },
  {
   "cell_type": "code",
   "execution_count": 33,
   "metadata": {},
   "outputs": [
    {
     "data": {
      "text/html": [
       "<div>\n",
       "<style scoped>\n",
       "    .dataframe tbody tr th:only-of-type {\n",
       "        vertical-align: middle;\n",
       "    }\n",
       "\n",
       "    .dataframe tbody tr th {\n",
       "        vertical-align: top;\n",
       "    }\n",
       "\n",
       "    .dataframe thead th {\n",
       "        text-align: right;\n",
       "    }\n",
       "</style>\n",
       "<table border=\"1\" class=\"dataframe\">\n",
       "  <thead>\n",
       "    <tr style=\"text-align: right;\">\n",
       "      <th></th>\n",
       "      <th>chr1</th>\n",
       "      <th>10091</th>\n",
       "      <th>10151</th>\n",
       "      <th>CTAGCGCTCTGAAGAA</th>\n",
       "      <th>1</th>\n",
       "    </tr>\n",
       "  </thead>\n",
       "  <tbody>\n",
       "    <tr>\n",
       "      <th>0</th>\n",
       "      <td>chr1</td>\n",
       "      <td>10235</td>\n",
       "      <td>10279</td>\n",
       "      <td>GCTGGCTGTAGATGTT</td>\n",
       "      <td>1</td>\n",
       "    </tr>\n",
       "    <tr>\n",
       "      <th>1</th>\n",
       "      <td>chr1</td>\n",
       "      <td>10356</td>\n",
       "      <td>10436</td>\n",
       "      <td>CCAGATTCTCCCGTAG</td>\n",
       "      <td>2</td>\n",
       "    </tr>\n",
       "    <tr>\n",
       "      <th>2</th>\n",
       "      <td>chr1</td>\n",
       "      <td>10381</td>\n",
       "      <td>10450</td>\n",
       "      <td>GGTGAGAACGATGCAT</td>\n",
       "      <td>1</td>\n",
       "    </tr>\n",
       "    <tr>\n",
       "      <th>3</th>\n",
       "      <td>chr1</td>\n",
       "      <td>10419</td>\n",
       "      <td>10502</td>\n",
       "      <td>CTGTGGACGGCTAGGA</td>\n",
       "      <td>1</td>\n",
       "    </tr>\n",
       "    <tr>\n",
       "      <th>4</th>\n",
       "      <td>chr1</td>\n",
       "      <td>10512</td>\n",
       "      <td>10589</td>\n",
       "      <td>CACTACTACTGTGGTC</td>\n",
       "      <td>1</td>\n",
       "    </tr>\n",
       "    <tr>\n",
       "      <th>...</th>\n",
       "      <td>...</td>\n",
       "      <td>...</td>\n",
       "      <td>...</td>\n",
       "      <td>...</td>\n",
       "      <td>...</td>\n",
       "    </tr>\n",
       "    <tr>\n",
       "      <th>20024977</th>\n",
       "      <td>chrUn_GL000218v1</td>\n",
       "      <td>158275</td>\n",
       "      <td>158869</td>\n",
       "      <td>ACTACGTAAGGTTACT</td>\n",
       "      <td>1</td>\n",
       "    </tr>\n",
       "    <tr>\n",
       "      <th>20024978</th>\n",
       "      <td>chrUn_GL000218v1</td>\n",
       "      <td>158519</td>\n",
       "      <td>158961</td>\n",
       "      <td>AGTAGAATATACTCAA</td>\n",
       "      <td>2</td>\n",
       "    </tr>\n",
       "    <tr>\n",
       "      <th>20024979</th>\n",
       "      <td>chrUn_GL000218v1</td>\n",
       "      <td>158841</td>\n",
       "      <td>159250</td>\n",
       "      <td>GCCTTTCCGGTGCGAG</td>\n",
       "      <td>1</td>\n",
       "    </tr>\n",
       "    <tr>\n",
       "      <th>20024980</th>\n",
       "      <td>chrUn_GL000218v1</td>\n",
       "      <td>159039</td>\n",
       "      <td>159241</td>\n",
       "      <td>GGTGGGTCGTAGAGCG</td>\n",
       "      <td>2</td>\n",
       "    </tr>\n",
       "    <tr>\n",
       "      <th>20024981</th>\n",
       "      <td>chrUn_GL000218v1</td>\n",
       "      <td>159420</td>\n",
       "      <td>159676</td>\n",
       "      <td>CTGCATTCTCCCCGAT</td>\n",
       "      <td>2</td>\n",
       "    </tr>\n",
       "  </tbody>\n",
       "</table>\n",
       "<p>20024982 rows × 5 columns</p>\n",
       "</div>"
      ],
      "text/plain": [
       "                      chr1   10091   10151  CTAGCGCTCTGAAGAA  1\n",
       "0                     chr1   10235   10279  GCTGGCTGTAGATGTT  1\n",
       "1                     chr1   10356   10436  CCAGATTCTCCCGTAG  2\n",
       "2                     chr1   10381   10450  GGTGAGAACGATGCAT  1\n",
       "3                     chr1   10419   10502  CTGTGGACGGCTAGGA  1\n",
       "4                     chr1   10512   10589  CACTACTACTGTGGTC  1\n",
       "...                    ...     ...     ...               ... ..\n",
       "20024977  chrUn_GL000218v1  158275  158869  ACTACGTAAGGTTACT  1\n",
       "20024978  chrUn_GL000218v1  158519  158961  AGTAGAATATACTCAA  2\n",
       "20024979  chrUn_GL000218v1  158841  159250  GCCTTTCCGGTGCGAG  1\n",
       "20024980  chrUn_GL000218v1  159039  159241  GGTGGGTCGTAGAGCG  2\n",
       "20024981  chrUn_GL000218v1  159420  159676  CTGCATTCTCCCCGAT  2\n",
       "\n",
       "[20024982 rows x 5 columns]"
      ]
     },
     "execution_count": 33,
     "metadata": {},
     "output_type": "execute_result"
    }
   ],
   "source": [
    "df"
   ]
  },
  {
   "cell_type": "code",
   "execution_count": null,
   "metadata": {},
   "outputs": [],
   "source": [
    "total = df['chr1'].sum()\n",
    "mt = df[df['chr1'] == 'chrMT']['1'].sum()\n",
    "mt / total * 100"
   ]
  }
 ],
 "metadata": {
  "kernelspec": {
   "display_name": "Python 3",
   "language": "python",
   "name": "python3"
  },
  "language_info": {
   "codemirror_mode": {
    "name": "ipython",
    "version": 3
   },
   "file_extension": ".py",
   "mimetype": "text/x-python",
   "name": "python",
   "nbconvert_exporter": "python",
   "pygments_lexer": "ipython3",
   "version": "3.9.0"
  }
 },
 "nbformat": 4,
 "nbformat_minor": 2
}
