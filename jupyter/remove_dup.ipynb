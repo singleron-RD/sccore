{
 "cells": [
  {
   "cell_type": "code",
   "execution_count": 3,
   "metadata": {},
   "outputs": [],
   "source": [
    "import pysam\n",
    "import os\n",
    "os.chdir('/SGRNJ06/randd/USER/zhouyiqi/work/analysis/mobiuscope/coverage/BAM')"
   ]
  },
  {
   "cell_type": "code",
   "execution_count": 5,
   "metadata": {},
   "outputs": [],
   "source": [
    "from collections import defaultdict\n",
    "\n",
    "\n",
    "def nested_defaultdict(dim=3, val_type=int):\n",
    "    if dim == 1:\n",
    "        return defaultdict(val_type)\n",
    "    else:\n",
    "        return defaultdict(lambda: nested_defaultdict(dim - 1, val_type=val_type))"
   ]
  },
  {
   "cell_type": "code",
   "execution_count": 7,
   "metadata": {},
   "outputs": [
    {
     "name": "stderr",
     "output_type": "stream",
     "text": [
      "[E::idx_find_and_load] Could not retrieve index file for './NB4_K562_subset.bam'\n"
     ]
    }
   ],
   "source": [
    "\n",
    "bam = './NB4_K562_subset.bam'\n",
    "dup_dict = nested_defaultdict(dim=4)\n",
    "removed = 0\n",
    "with pysam.AlignmentFile(bam, \"rb\") as reader:\n",
    "    header = reader.header.to_dict()\n",
    "    out_bam_file = 'UMI.bam'\n",
    "    with pysam.AlignmentFile(out_bam_file, \"wb\", header=header) as writer:\n",
    "        for record in reader:\n",
    "            gn = record.get_tag(\"GN\")\n",
    "            cb = record.get_tag(\"CB\")\n",
    "            umi = record.get_tag(\"UB\")\n",
    "            if any(x == \"-\" for x in (gn, cb, umi)):\n",
    "                continue\n",
    "            rn, rs = record.reference_name, record.reference_start\n",
    "            dup_dict[cb][rn][rs][umi] += 1\n",
    "            if dup_dict[cb][rn][rs][umi] > 1:\n",
    "                removed += 1\n",
    "                continue\n",
    "            writer.write(record)"
   ]
  },
  {
   "cell_type": "code",
   "execution_count": 8,
   "metadata": {},
   "outputs": [
    {
     "data": {
      "text/plain": [
       "2621354"
      ]
     },
     "execution_count": 8,
     "metadata": {},
     "output_type": "execute_result"
    }
   ],
   "source": [
    "removed"
   ]
  },
  {
   "cell_type": "code",
   "execution_count": null,
   "metadata": {},
   "outputs": [],
   "source": []
  }
 ],
 "metadata": {
  "kernelspec": {
   "display_name": "Python 3",
   "language": "python",
   "name": "python3"
  },
  "language_info": {
   "codemirror_mode": {
    "name": "ipython",
    "version": 3
   },
   "file_extension": ".py",
   "mimetype": "text/x-python",
   "name": "python",
   "nbconvert_exporter": "python",
   "pygments_lexer": "ipython3",
   "version": "3.9.0"
  }
 },
 "nbformat": 4,
 "nbformat_minor": 2
}
